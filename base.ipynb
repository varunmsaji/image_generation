{
 "cells": [
  {
   "cell_type": "code",
   "execution_count": 1,
   "id": "0446bc8b-02d4-410d-bc30-39cba3f5265f",
   "metadata": {},
   "outputs": [
    {
     "name": "stdout",
     "output_type": "stream",
     "text": [
      "Requirement already satisfied: diffusers[torch] in /home/varun/miniconda3/lib/python3.11/site-packages (0.27.2)\n",
      "Requirement already satisfied: importlib-metadata in /home/varun/miniconda3/lib/python3.11/site-packages (from diffusers[torch]) (7.0.1)\n",
      "Requirement already satisfied: filelock in /home/varun/miniconda3/lib/python3.11/site-packages (from diffusers[torch]) (3.13.1)\n",
      "Requirement already satisfied: huggingface-hub>=0.20.2 in /home/varun/miniconda3/lib/python3.11/site-packages (from diffusers[torch]) (0.22.2)\n",
      "Requirement already satisfied: numpy in /home/varun/miniconda3/lib/python3.11/site-packages (from diffusers[torch]) (1.26.4)\n",
      "Requirement already satisfied: regex!=2019.12.17 in /home/varun/miniconda3/lib/python3.11/site-packages (from diffusers[torch]) (2023.12.25)\n",
      "Requirement already satisfied: requests in /home/varun/miniconda3/lib/python3.11/site-packages (from diffusers[torch]) (2.31.0)\n",
      "Requirement already satisfied: safetensors>=0.3.1 in /home/varun/miniconda3/lib/python3.11/site-packages (from diffusers[torch]) (0.4.2)\n",
      "Requirement already satisfied: Pillow in /home/varun/miniconda3/lib/python3.11/site-packages (from diffusers[torch]) (10.2.0)\n",
      "Requirement already satisfied: torch>=1.4 in /home/varun/miniconda3/lib/python3.11/site-packages (from diffusers[torch]) (2.2.0)\n",
      "Requirement already satisfied: accelerate>=0.11.0 in /home/varun/miniconda3/lib/python3.11/site-packages (from diffusers[torch]) (0.28.0)\n",
      "Requirement already satisfied: packaging>=20.0 in /home/varun/miniconda3/lib/python3.11/site-packages (from accelerate>=0.11.0->diffusers[torch]) (23.1)\n",
      "Requirement already satisfied: psutil in /home/varun/miniconda3/lib/python3.11/site-packages (from accelerate>=0.11.0->diffusers[torch]) (5.9.8)\n",
      "Requirement already satisfied: pyyaml in /home/varun/miniconda3/lib/python3.11/site-packages (from accelerate>=0.11.0->diffusers[torch]) (6.0.1)\n",
      "Requirement already satisfied: fsspec>=2023.5.0 in /home/varun/miniconda3/lib/python3.11/site-packages (from huggingface-hub>=0.20.2->diffusers[torch]) (2024.2.0)\n",
      "Requirement already satisfied: tqdm>=4.42.1 in /home/varun/miniconda3/lib/python3.11/site-packages (from huggingface-hub>=0.20.2->diffusers[torch]) (4.65.0)\n",
      "Requirement already satisfied: typing-extensions>=3.7.4.3 in /home/varun/miniconda3/lib/python3.11/site-packages (from huggingface-hub>=0.20.2->diffusers[torch]) (4.9.0)\n",
      "Requirement already satisfied: sympy in /home/varun/miniconda3/lib/python3.11/site-packages (from torch>=1.4->diffusers[torch]) (1.12)\n",
      "Requirement already satisfied: networkx in /home/varun/miniconda3/lib/python3.11/site-packages (from torch>=1.4->diffusers[torch]) (3.2.1)\n",
      "Requirement already satisfied: jinja2 in /home/varun/miniconda3/lib/python3.11/site-packages (from torch>=1.4->diffusers[torch]) (3.1.3)\n",
      "Requirement already satisfied: nvidia-cuda-nvrtc-cu12==12.1.105 in /home/varun/miniconda3/lib/python3.11/site-packages (from torch>=1.4->diffusers[torch]) (12.1.105)\n",
      "Requirement already satisfied: nvidia-cuda-runtime-cu12==12.1.105 in /home/varun/miniconda3/lib/python3.11/site-packages (from torch>=1.4->diffusers[torch]) (12.1.105)\n",
      "Requirement already satisfied: nvidia-cuda-cupti-cu12==12.1.105 in /home/varun/miniconda3/lib/python3.11/site-packages (from torch>=1.4->diffusers[torch]) (12.1.105)\n",
      "Requirement already satisfied: nvidia-cudnn-cu12==8.9.2.26 in /home/varun/miniconda3/lib/python3.11/site-packages (from torch>=1.4->diffusers[torch]) (8.9.2.26)\n",
      "Requirement already satisfied: nvidia-cublas-cu12==12.1.3.1 in /home/varun/miniconda3/lib/python3.11/site-packages (from torch>=1.4->diffusers[torch]) (12.1.3.1)\n",
      "Requirement already satisfied: nvidia-cufft-cu12==11.0.2.54 in /home/varun/miniconda3/lib/python3.11/site-packages (from torch>=1.4->diffusers[torch]) (11.0.2.54)\n",
      "Requirement already satisfied: nvidia-curand-cu12==10.3.2.106 in /home/varun/miniconda3/lib/python3.11/site-packages (from torch>=1.4->diffusers[torch]) (10.3.2.106)\n",
      "Requirement already satisfied: nvidia-cusolver-cu12==11.4.5.107 in /home/varun/miniconda3/lib/python3.11/site-packages (from torch>=1.4->diffusers[torch]) (11.4.5.107)\n",
      "Requirement already satisfied: nvidia-cusparse-cu12==12.1.0.106 in /home/varun/miniconda3/lib/python3.11/site-packages (from torch>=1.4->diffusers[torch]) (12.1.0.106)\n",
      "Requirement already satisfied: nvidia-nccl-cu12==2.19.3 in /home/varun/miniconda3/lib/python3.11/site-packages (from torch>=1.4->diffusers[torch]) (2.19.3)\n",
      "Requirement already satisfied: nvidia-nvtx-cu12==12.1.105 in /home/varun/miniconda3/lib/python3.11/site-packages (from torch>=1.4->diffusers[torch]) (12.1.105)\n",
      "Requirement already satisfied: triton==2.2.0 in /home/varun/miniconda3/lib/python3.11/site-packages (from torch>=1.4->diffusers[torch]) (2.2.0)\n",
      "Requirement already satisfied: nvidia-nvjitlink-cu12 in /home/varun/miniconda3/lib/python3.11/site-packages (from nvidia-cusolver-cu12==11.4.5.107->torch>=1.4->diffusers[torch]) (12.3.101)\n",
      "Requirement already satisfied: zipp>=0.5 in /home/varun/miniconda3/lib/python3.11/site-packages (from importlib-metadata->diffusers[torch]) (3.17.0)\n",
      "Requirement already satisfied: charset-normalizer<4,>=2 in /home/varun/miniconda3/lib/python3.11/site-packages (from requests->diffusers[torch]) (2.0.4)\n",
      "Requirement already satisfied: idna<4,>=2.5 in /home/varun/miniconda3/lib/python3.11/site-packages (from requests->diffusers[torch]) (3.4)\n",
      "Requirement already satisfied: urllib3<3,>=1.21.1 in /home/varun/miniconda3/lib/python3.11/site-packages (from requests->diffusers[torch]) (1.26.18)\n",
      "Requirement already satisfied: certifi>=2017.4.17 in /home/varun/miniconda3/lib/python3.11/site-packages (from requests->diffusers[torch]) (2024.2.2)\n",
      "Requirement already satisfied: MarkupSafe>=2.0 in /home/varun/miniconda3/lib/python3.11/site-packages (from jinja2->torch>=1.4->diffusers[torch]) (2.1.5)\n",
      "Requirement already satisfied: mpmath>=0.19 in /home/varun/miniconda3/lib/python3.11/site-packages (from sympy->torch>=1.4->diffusers[torch]) (1.3.0)\n"
     ]
    }
   ],
   "source": [
    "!pip install --upgrade diffusers[torch]"
   ]
  },
  {
   "cell_type": "code",
   "execution_count": 2,
   "id": "f90ef4d8-6077-40b0-a6ad-dd3ac32d9902",
   "metadata": {},
   "outputs": [
    {
     "name": "stdout",
     "output_type": "stream",
     "text": [
      "Requirement already satisfied: transformers in /home/varun/miniconda3/lib/python3.11/site-packages (4.39.3)\n",
      "Requirement already satisfied: filelock in /home/varun/miniconda3/lib/python3.11/site-packages (from transformers) (3.13.1)\n",
      "Requirement already satisfied: huggingface-hub<1.0,>=0.19.3 in /home/varun/miniconda3/lib/python3.11/site-packages (from transformers) (0.22.2)\n",
      "Requirement already satisfied: numpy>=1.17 in /home/varun/miniconda3/lib/python3.11/site-packages (from transformers) (1.26.4)\n",
      "Requirement already satisfied: packaging>=20.0 in /home/varun/miniconda3/lib/python3.11/site-packages (from transformers) (23.1)\n",
      "Requirement already satisfied: pyyaml>=5.1 in /home/varun/miniconda3/lib/python3.11/site-packages (from transformers) (6.0.1)\n",
      "Requirement already satisfied: regex!=2019.12.17 in /home/varun/miniconda3/lib/python3.11/site-packages (from transformers) (2023.12.25)\n",
      "Requirement already satisfied: requests in /home/varun/miniconda3/lib/python3.11/site-packages (from transformers) (2.31.0)\n",
      "Requirement already satisfied: tokenizers<0.19,>=0.14 in /home/varun/miniconda3/lib/python3.11/site-packages (from transformers) (0.15.2)\n",
      "Requirement already satisfied: safetensors>=0.4.1 in /home/varun/miniconda3/lib/python3.11/site-packages (from transformers) (0.4.2)\n",
      "Requirement already satisfied: tqdm>=4.27 in /home/varun/miniconda3/lib/python3.11/site-packages (from transformers) (4.65.0)\n",
      "Requirement already satisfied: fsspec>=2023.5.0 in /home/varun/miniconda3/lib/python3.11/site-packages (from huggingface-hub<1.0,>=0.19.3->transformers) (2024.2.0)\n",
      "Requirement already satisfied: typing-extensions>=3.7.4.3 in /home/varun/miniconda3/lib/python3.11/site-packages (from huggingface-hub<1.0,>=0.19.3->transformers) (4.9.0)\n",
      "Requirement already satisfied: charset-normalizer<4,>=2 in /home/varun/miniconda3/lib/python3.11/site-packages (from requests->transformers) (2.0.4)\n",
      "Requirement already satisfied: idna<4,>=2.5 in /home/varun/miniconda3/lib/python3.11/site-packages (from requests->transformers) (3.4)\n",
      "Requirement already satisfied: urllib3<3,>=1.21.1 in /home/varun/miniconda3/lib/python3.11/site-packages (from requests->transformers) (1.26.18)\n",
      "Requirement already satisfied: certifi>=2017.4.17 in /home/varun/miniconda3/lib/python3.11/site-packages (from requests->transformers) (2024.2.2)\n"
     ]
    }
   ],
   "source": [
    "!pip install transformers"
   ]
  },
  {
   "cell_type": "code",
   "execution_count": 3,
   "id": "b9f8c8c8-6cd2-4437-9ece-2178eee2af53",
   "metadata": {},
   "outputs": [
    {
     "name": "stdout",
     "output_type": "stream",
     "text": [
      "Requirement already satisfied: transformers in /home/varun/miniconda3/lib/python3.11/site-packages (4.39.3)\n",
      "Requirement already satisfied: filelock in /home/varun/miniconda3/lib/python3.11/site-packages (from transformers) (3.13.1)\n",
      "Requirement already satisfied: huggingface-hub<1.0,>=0.19.3 in /home/varun/miniconda3/lib/python3.11/site-packages (from transformers) (0.22.2)\n",
      "Requirement already satisfied: numpy>=1.17 in /home/varun/miniconda3/lib/python3.11/site-packages (from transformers) (1.26.4)\n",
      "Requirement already satisfied: packaging>=20.0 in /home/varun/miniconda3/lib/python3.11/site-packages (from transformers) (23.1)\n",
      "Requirement already satisfied: pyyaml>=5.1 in /home/varun/miniconda3/lib/python3.11/site-packages (from transformers) (6.0.1)\n",
      "Requirement already satisfied: regex!=2019.12.17 in /home/varun/miniconda3/lib/python3.11/site-packages (from transformers) (2023.12.25)\n",
      "Requirement already satisfied: requests in /home/varun/miniconda3/lib/python3.11/site-packages (from transformers) (2.31.0)\n",
      "Requirement already satisfied: tokenizers<0.19,>=0.14 in /home/varun/miniconda3/lib/python3.11/site-packages (from transformers) (0.15.2)\n",
      "Requirement already satisfied: safetensors>=0.4.1 in /home/varun/miniconda3/lib/python3.11/site-packages (from transformers) (0.4.2)\n",
      "Requirement already satisfied: tqdm>=4.27 in /home/varun/miniconda3/lib/python3.11/site-packages (from transformers) (4.65.0)\n",
      "Requirement already satisfied: fsspec>=2023.5.0 in /home/varun/miniconda3/lib/python3.11/site-packages (from huggingface-hub<1.0,>=0.19.3->transformers) (2024.2.0)\n",
      "Requirement already satisfied: typing-extensions>=3.7.4.3 in /home/varun/miniconda3/lib/python3.11/site-packages (from huggingface-hub<1.0,>=0.19.3->transformers) (4.9.0)\n",
      "Requirement already satisfied: charset-normalizer<4,>=2 in /home/varun/miniconda3/lib/python3.11/site-packages (from requests->transformers) (2.0.4)\n",
      "Requirement already satisfied: idna<4,>=2.5 in /home/varun/miniconda3/lib/python3.11/site-packages (from requests->transformers) (3.4)\n",
      "Requirement already satisfied: urllib3<3,>=1.21.1 in /home/varun/miniconda3/lib/python3.11/site-packages (from requests->transformers) (1.26.18)\n",
      "Requirement already satisfied: certifi>=2017.4.17 in /home/varun/miniconda3/lib/python3.11/site-packages (from requests->transformers) (2024.2.2)\n"
     ]
    },
    {
     "name": "stderr",
     "output_type": "stream",
     "text": [
      "/home/varun/.local/lib/python3.10/site-packages/tqdm/auto.py:21: TqdmWarning: IProgress not found. Please update jupyter and ipywidgets. See https://ipywidgets.readthedocs.io/en/stable/user_install.html\n",
      "  from .autonotebook import tqdm as notebook_tqdm\n",
      "Loading pipeline components...: 100%|█████████████| 7/7 [00:04<00:00,  1.44it/s]\n"
     ]
    },
    {
     "data": {
      "text/plain": [
       "StableDiffusionPipeline {\n",
       "  \"_class_name\": \"StableDiffusionPipeline\",\n",
       "  \"_diffusers_version\": \"0.27.2\",\n",
       "  \"_name_or_path\": \"runwayml/stable-diffusion-v1-5\",\n",
       "  \"feature_extractor\": [\n",
       "    \"transformers\",\n",
       "    \"CLIPImageProcessor\"\n",
       "  ],\n",
       "  \"image_encoder\": [\n",
       "    null,\n",
       "    null\n",
       "  ],\n",
       "  \"requires_safety_checker\": true,\n",
       "  \"safety_checker\": [\n",
       "    \"stable_diffusion\",\n",
       "    \"StableDiffusionSafetyChecker\"\n",
       "  ],\n",
       "  \"scheduler\": [\n",
       "    \"diffusers\",\n",
       "    \"PNDMScheduler\"\n",
       "  ],\n",
       "  \"text_encoder\": [\n",
       "    \"transformers\",\n",
       "    \"CLIPTextModel\"\n",
       "  ],\n",
       "  \"tokenizer\": [\n",
       "    \"transformers\",\n",
       "    \"CLIPTokenizer\"\n",
       "  ],\n",
       "  \"unet\": [\n",
       "    \"diffusers\",\n",
       "    \"UNet2DConditionModel\"\n",
       "  ],\n",
       "  \"vae\": [\n",
       "    \"diffusers\",\n",
       "    \"AutoencoderKL\"\n",
       "  ]\n",
       "}"
      ]
     },
     "execution_count": 3,
     "metadata": {},
     "output_type": "execute_result"
    }
   ],
   "source": [
    "!pip install transformers\n",
    "from diffusers import DiffusionPipeline \n",
    "import torch\n",
    "\n",
    "pipeline = DiffusionPipeline.from_pretrained('runwayml/stable-diffusion-v1-5',torch_dtype=torch.float16)\n",
    "pipeline.to(\"cuda\")"
   ]
  },
  {
   "cell_type": "code",
   "execution_count": 32,
   "id": "0bc08cce-88c7-4e01-8a7b-c37482aee5eb",
   "metadata": {},
   "outputs": [
    {
     "name": "stdout",
     "output_type": "stream",
     "text": [
      "smiling middle eastern female\n"
     ]
    },
    {
     "name": "stderr",
     "output_type": "stream",
     "text": [
      "100%|███████████████████████████████████████████| 50/50 [00:02<00:00, 18.59it/s]\n"
     ]
    },
    {
     "name": "stdout",
     "output_type": "stream",
     "text": [
      "frowning, sad face expression, crying black e\n"
     ]
    },
    {
     "name": "stderr",
     "output_type": "stream",
     "text": [
      "100%|███████████████████████████████████████████| 50/50 [00:02<00:00, 18.51it/s]\n"
     ]
    },
    {
     "name": "stdout",
     "output_type": "stream",
     "text": [
      "surprised, opened mouth, raised eyebrows white e\n"
     ]
    },
    {
     "name": "stderr",
     "output_type": "stream",
     "text": [
      "100%|███████████████████████████████████████████| 50/50 [00:02<00:00, 18.66it/s]\n"
     ]
    },
    {
     "name": "stdout",
     "output_type": "stream",
     "text": [
      "angry black e\n"
     ]
    },
    {
     "name": "stderr",
     "output_type": "stream",
     "text": [
      "100%|███████████████████████████████████████████| 50/50 [00:02<00:00, 18.64it/s]\n"
     ]
    }
   ],
   "source": [
    "import matplotlib.pyplot as plt\n",
    "import random\n",
    "import os\n",
    "\n",
    "os.makedirs('faces/happy',exist_ok = True)\n",
    "os.makedirs('faces/sad',exist_ok = True)\n",
    "os.makedirs('faces/angry',exist_ok = True)\n",
    "os.makedirs('faces/surprised',exist_ok = True)\n",
    "\n",
    "\n",
    "ethnicities = ['indian','white','black','middle eastern','asian','kid']\n",
    "gender = ['male','female']\n",
    "emotion_prompts = {'happy': 'smiling',\n",
    "                   'sad': 'frowning, sad face expression, crying',\n",
    "                   'surprised': 'surprised, opened mouth, raised eyebrows',\n",
    "                   'angry': 'angry'}\n",
    "random.seed(50)\n",
    "\n",
    "for i in range(1):\n",
    "    for emotion in emotion_prompts.keys():\n",
    "        emotion_prompt = emotion_prompts[emotion]\n",
    "        ethinicity = random.choice(ethnicities)\n",
    "        gender = random.choice(gender)\n",
    "        print(emotion_prompt,ethinicity,gender)\n",
    "    \n",
    "        prompt = 'Medium-shot portrait of a person {}, {},{} front view, looking at the camera, color photography, '.format(ethinicity, gender,emotion_prompt) + \\\n",
    "                'photorealistic, hyperrealistic, realistic, incredibly detailed, crisp focus, digital art, depth of field, 50mm, 8k'\n",
    "        negative_prompt = '3d, cartoon, anime, sketches, (worst quality:2), (low quality:2), (normal quality:2), lowres, normal quality, ((monochrome)), ' + \\\n",
    "                          '((grayscale)) Low Quality, Worst Quality, plastic, fake, disfigured, deformed, blurry, bad anatomy, blurred, watermark, grainy, signature'\n",
    "        \n",
    "        # Provide explicit height and width parameters divisible by 8\n",
    "        height = 512\n",
    "        width = 512\n",
    "        \n",
    "        img = pipeline(prompt, height=height, width=width, negative_prompt=negative_prompt).images[0]\n",
    "        img.save('faces/{}/{}.png'.format(emotion,str(i).zfill(4)))\n",
    "        \n",
    "      \n"
   ]
  },
  {
   "cell_type": "code",
   "execution_count": null,
   "id": "36574827-fd9e-4764-bd31-32dff83b7af7",
   "metadata": {},
   "outputs": [],
   "source": []
  }
 ],
 "metadata": {
  "kernelspec": {
   "display_name": "torch",
   "language": "python",
   "name": "torch"
  },
  "language_info": {
   "codemirror_mode": {
    "name": "ipython",
    "version": 3
   },
   "file_extension": ".py",
   "mimetype": "text/x-python",
   "name": "python",
   "nbconvert_exporter": "python",
   "pygments_lexer": "ipython3",
   "version": "3.10.13"
  }
 },
 "nbformat": 4,
 "nbformat_minor": 5
}
